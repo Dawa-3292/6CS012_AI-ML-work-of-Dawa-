{
 "cells": [
  {
   "cell_type": "markdown",
   "id": "7e0e1388-d51e-45d1-98fa-a4f24c2ec9e8",
   "metadata": {},
   "source": [
    "# Worksheet-3\n"
   ]
  },
  {
   "cell_type": "markdown",
   "id": "664a616e-b774-4ed7-8800-02486646140f",
   "metadata": {},
   "source": [
    "### Task-1: Implementation of MCP Neurons"
   ]
  },
  {
   "cell_type": "code",
   "execution_count": 21,
   "id": "19a2a456-a944-4403-8c3b-c7885997e9e6",
   "metadata": {},
   "outputs": [],
   "source": [
    "def MCP_Neurons_AND(X1, X2, T):\n",
    "    \"\"\"\n",
    "    This functions implements basic AND operations with MCP Neuron for two inputs.\n",
    "    Arguments:\n",
    "    Inputs:\n",
    "    X1 (1 nd array): An array of binary values.\n",
    "    X2 (1 nd array): An array of binary values.\n",
    "    Output:\n",
    "    state_neuron(1D-list): An state of neuron 1 0r 0 for the particular inputs.\n",
    "    \"\"\"\n",
    "    assert len(X1) == len(X2)\n",
    "    ### YOUR CODE HERE ###\n",
    "    state_neuron = []\n",
    "    for x1, x2 in zip(X1, X2):\n",
    "        if x1 == 0 and x2 == 0:  # Inhibitory condition\n",
    "            state_neuron.append(0)\n",
    "        else:\n",
    "            sum_inputs = x1 + x2\n",
    "            if sum_inputs >= T:\n",
    "                state_neuron.append(1)\n",
    "            else:\n",
    "                state_neuron.append(0)\n",
    "    return state_neuron\n",
    "# Perform an element wise addition of two input arrays stored in a new array(list):\n",
    "# Create a new array to put all the prediction let’s name that a state_neuron.\n",
    "# Append 1 in sate_neuron if sum (element) of above list is above Threshold else append 0.\n"
   ]
  },
  {
   "cell_type": "code",
   "execution_count": 22,
   "id": "ce61f021-0ac2-44ba-a144-f315b513a5c7",
   "metadata": {},
   "outputs": [
    {
     "name": "stdout",
     "output_type": "stream",
     "text": [
      "Output of AND gate for inputs [0, 0, 1, 1] and [0, 1, 0, 1] with threshold 2: [0, 0, 0, 1]\n"
     ]
    }
   ],
   "source": [
    "# Example usage for MCP_Neurons_AND function\n",
    "X1 = [0, 0, 1, 1]\n",
    "X2 = [0, 1, 0, 1]\n",
    "T = 2 # Threshold value\n",
    "# Call the MCP_Neurons_AND function\n",
    "result = MCP_Neurons_AND(X1, X2, T)\n",
    "# Print the result\n",
    "print(f\"Output of AND gate for inputs {X1} and {X2} with threshold {T}: {result}\")"
   ]
  },
  {
   "cell_type": "markdown",
   "id": "d5fd76eb-6291-499f-ab61-377bfa04a34e",
   "metadata": {},
   "source": [
    "## For \"OR\" Operations"
   ]
  },
  {
   "cell_type": "code",
   "execution_count": 24,
   "id": "6fb60411-2429-4c13-946a-3be8af9130c9",
   "metadata": {},
   "outputs": [],
   "source": [
    "def MCP_Neurons_OR(X1, X2, T):\n",
    "    \"\"\"\n",
    "    This function implements basic OR operations with MCP Neuron for two inputs.\n",
    "    Arguments:\n",
    "    Inputs:\n",
    "    X1 (1D array): An array of binary values.\n",
    "    X2 (1D array): An array of binary values.\n",
    "    Output:\n",
    "    state_neuron (1D list): The state of the neuron (1 or 0) for the particular inputs.\n",
    "    \"\"\"\n",
    "    assert len(X1) == len(X2)\n",
    "    state_neuron = []\n",
    "    for x1, x2 in zip(X1, X2):\n",
    "        sum_inputs = x1 + x2\n",
    "        if sum_inputs >= T:\n",
    "            state_neuron.append(1)\n",
    "        else:\n",
    "            state_neuron.append(0)\n",
    "\n",
    "### YOUR CODE HERE ###\n",
    "# Perform an element wise addition of two input arrays stored in a new array(list):\n",
    "# Create a new array to put all the prediction let’s name that a state_neuron.\n",
    "# Append 1 in sate_neuron if sum (element) of above list is above Threshold else append 0.\n",
    "    return state_neuron"
   ]
  },
  {
   "cell_type": "code",
   "execution_count": 25,
   "id": "e8d2f475-4223-45c1-aea8-f0f9f99b1582",
   "metadata": {},
   "outputs": [
    {
     "name": "stdout",
     "output_type": "stream",
     "text": [
      "Output of OR gate for inputs [0, 0, 1, 1] and [0, 1, 0, 1] with threshold 1: [0, 1, 1, 1]\n"
     ]
    }
   ],
   "source": [
    "# Example usage for MCP_Neurons_OR function\n",
    "X1 = [0, 0, 1, 1]\n",
    "X2 = [0, 1, 0, 1]\n",
    "T = 1 # Threshold value for OR gate\n",
    "# Call the MCP_Neurons_OR function\n",
    "result_or = MCP_Neurons_OR(X1, X2, T)\n",
    "# Print the result\n",
    "print(f\"Output of OR gate for inputs {X1} and {X2} with threshold {T}: {result_or}\")"
   ]
  },
  {
   "cell_type": "markdown",
   "id": "0175b0cb-86a9-473f-b932-0fb1f2c801cb",
   "metadata": {},
   "source": [
    "### Question - 1:"
   ]
  },
  {
   "cell_type": "markdown",
   "id": "7c125f4b-18ca-4612-9ddc-edded593dd3c",
   "metadata": {},
   "source": [
    "List out all the limitations of MCP - Neurons.\n",
    "\n",
    "1. Limited to Linearly Separable Problems: MCP neurons can only solve problems where the data is linearly separable. They fail to solve non-linearly separable problems like the XOR function.\n",
    "\n",
    "2. No Learning Mechanism: MCP neurons do not have a learning algorithm. The weights and thresholds must be manually set, which is impractical for complex problems.\n",
    "\n",
    "3. Binary Inputs and Outputs: MCP neurons only work with binary inputs (0 or 1) and produce binary outputs. This limits their ability to handle continuous or multi-class data.\n",
    "\n",
    "4. No Bias Term: MCP neurons do not include a bias term, which limits their flexibility in modeling decision boundaries.\n",
    "\n",
    "5. Fixed Threshold: The threshold value is fixed and must be handcrafted, making it difficult to adapt to different datasets."
   ]
  },
  {
   "cell_type": "markdown",
   "id": "12f8d6b8-bd5c-4e19-856e-10953eb7e804",
   "metadata": {},
   "source": [
    "## Question - 2:"
   ]
  },
  {
   "cell_type": "markdown",
   "id": "37ae57a2-946c-4303-9408-8adf8d66dd53",
   "metadata": {},
   "source": [
    "Think if you can develop a logic to solve for XOR function using MCP Neuron.\n",
    "{Can you devise a if else rules.}\n",
    "\n",
    "No, the XOR function cannot be solved using a single MCP neuron because it is not linearly separable. The XOR function requires a non-linear decision boundary, which a single MCP neuron cannot model. To solve XOR, you would need a multi-layer network (e.g., a perceptron with hidden layers)."
   ]
  },
  {
   "cell_type": "markdown",
   "id": "e21be6c0-e6ec-46c3-82b1-82ceec1ebbfd",
   "metadata": {},
   "source": [
    "### Task 2: Perceptron Algorithm for 0 vs 1 Classification."
   ]
  },
  {
   "cell_type": "markdown",
   "id": "44f99b3e-0a6f-46c8-929d-b35c8d5d402f",
   "metadata": {},
   "source": [
    "Load the Dataset"
   ]
  },
  {
   "cell_type": "code",
   "execution_count": 30,
   "id": "5c392ca9-bc03-48c3-a790-66ee71319b99",
   "metadata": {},
   "outputs": [
    {
     "name": "stdout",
     "output_type": "stream",
     "text": [
      "Feature matrix shape: (12665, 784)\n",
      "Label vector shape: (12665,)\n"
     ]
    }
   ],
   "source": [
    "import pandas as pd\n",
    "import numpy as np\n",
    "import matplotlib.pyplot as plt\n",
    "# Load the dataset\n",
    "df_0_1 = pd.read_csv(\"mnist_0_and_1.csv\") # Add the correct file path if necessary\n",
    "# Extract features and labels\n",
    "X = df_0_1.drop(columns=[\"label\"]).values # 784 pixels\n",
    "y = df_0_1[\"label\"].values # Labels (0 or 1)\n",
    "# Check the shape of the features and labels\n",
    "print(\"Feature matrix shape:\", X.shape)\n",
    "print(\"Label vector shape:\", y.shape)"
   ]
  },
  {
   "cell_type": "markdown",
   "id": "99f2b08f-a2a0-41f7-bfa9-5a1533ba7417",
   "metadata": {},
   "source": [
    "## Question - 1:"
   ]
  },
  {
   "cell_type": "markdown",
   "id": "cfa61c4d-8327-4a58-8d1f-371554711fae",
   "metadata": {},
   "source": [
    "What does the shape of X represent?\n",
    "The shape of the matrix represents a dataset consisiting of size 12665 x 784.\n",
    "* The total number of images in the dataset 12665.\n",
    "* The number of features (pixels) in each image (28*28=784)"
   ]
  },
  {
   "cell_type": "markdown",
   "id": "76c9f342-3ff1-4af7-9efa-f003478431c5",
   "metadata": {},
   "source": [
    "## Question - 2:"
   ]
  },
  {
   "cell_type": "markdown",
   "id": "a243cdce-c37c-45b9-942c-cc2c3b2b0a75",
   "metadata": {},
   "source": [
    "What does the shape of Y represent?\n",
    "The shape of Y represents a single column data with upto 12665 ."
   ]
  },
  {
   "cell_type": "markdown",
   "id": "82bc3f4f-cadd-4c53-b53e-32234adcd547",
   "metadata": {},
   "source": [
    "Visualize the Dataset:"
   ]
  },
  {
   "cell_type": "code",
   "execution_count": 31,
   "id": "aa910e3e-90e4-4b5c-84e7-8065dff30ad0",
   "metadata": {},
   "outputs": [
    {
     "data": {
      "image/png": "[encoded data removed]",
      "text/plain": [
       "<Figure size 1000x500 with 10 Axes>"
      ]
     },
     "metadata": {},
     "output_type": "display_data"
    },
    {
     "data": {
      "text/plain": [
       "<Figure size 640x480 with 0 Axes>"
      ]
     },
     "metadata": {},
     "output_type": "display_data"
    },
    {
     "data": {
      "text/plain": [
       "<Figure size 640x480 with 0 Axes>"
      ]
     },
     "metadata": {},
     "output_type": "display_data"
    },
    {
     "data": {
      "text/plain": [
       "<Figure size 640x480 with 0 Axes>"
      ]
     },
     "metadata": {},
     "output_type": "display_data"
    },
    {
     "data": {
      "text/plain": [
       "<Figure size 640x480 with 0 Axes>"
      ]
     },
     "metadata": {},
     "output_type": "display_data"
    }
   ],
   "source": [
    "# Separate images for label 0 and label 1\n",
    "images_0 = X[y == 0] # Get all images with label 0\n",
    "images_1 = X[y == 1] # Get all images with label 1\n",
    "fig, axes = plt.subplots(2, 5, figsize=(10, 5))\n",
    "# Check if the arrays have the required amount of data\n",
    "if len(images_0) < 5 or len(images_1) < 5:\n",
    "    print(\"Error: Not enough images in images_0 or images_1 to plot 5 images.\")\n",
    "else:\n",
    "    for i in range(5):\n",
    "        # Plot digit 0\n",
    "        axes[0, i].imshow(images_0[i].reshape(28, 28), cmap=\"gray\")\n",
    "        axes[0, i].set_title(\"Label: 0\")\n",
    "        axes[0, i].axis(\"off\")\n",
    "        # Plot digit 1\n",
    "        axes[1, i].imshow(images_1[i].reshape(28, 28), cmap=\"gray\")\n",
    "        axes[1, i].set_title(\"Label: 1\")\n",
    "        axes[1, i].axis(\"off\")\n",
    "        plt.suptitle(\"First 5 Images of 0 and 1 from MNIST Subset\")\n",
    "        plt.show()"
   ]
  },
  {
   "cell_type": "markdown",
   "id": "77722532-c89c-4aee-992a-893849cd47df",
   "metadata": {},
   "source": [
    "Initialize Weights and Bias:"
   ]
  },
  {
   "cell_type": "code",
   "execution_count": 33,
   "id": "04e4f034-5884-49d9-b202-472514b5f0c5",
   "metadata": {},
   "outputs": [],
   "source": [
    "# Initialize weights and bias\n",
    "weights = np.zeros(X.shape[1]) # 784 weights (one for each pixel)\n",
    "bias = 0\n",
    "learning_rate = 0.1\n",
    "epochs = 100"
   ]
  },
  {
   "cell_type": "markdown",
   "id": "964a2c8b-f8b1-46bf-a9cd-daa3775fd9f8",
   "metadata": {},
   "source": [
    "Question - 3:"
   ]
  },
  {
   "cell_type": "markdown",
   "id": "3cc154ed-5805-4c62-b4fb-5d175d866e9c",
   "metadata": {},
   "source": [
    "What does the weights array represent in this context?\n",
    "\n",
    "The weights array represents the learned parameters of the Perceptron model. Each weight corresponds to the importance of a specific feature (pixel) in making predictions. \n",
    "\n",
    "If weights.shape is (784,), it means there is one weight for each of the 784 pixels in the images.\n"
   ]
  },
  {
   "cell_type": "markdown",
   "id": "d445c4c7-3a3e-4716-828e-0ba9b87b1185",
   "metadata": {},
   "source": [
    "Question - 4:"
   ]
  },
  {
   "cell_type": "markdown",
   "id": "0fceb892-33d7-4d28-863a-2c2a6b392602",
   "metadata": {},
   "source": [
    "Why are we initializing the weights to zero? What effect could this\n",
    "have on the training process?\n",
    "\n",
    "* Initialization to Zero: We initialize the weights to zero to start the training process from a neutral state. This ensures that the model has no prior bias toward any specific feature.\n",
    "\n",
    "* Effect on Training:\n",
    "\n",
    "  * Advantage: Starting from zero ensures symmetry in the learning process.\n",
    "\n",
    "  * Disadvantage: If all weights are zero, the model may take longer to converge because the initial updates are based solely on the input data."
   ]
  },
  {
   "cell_type": "markdown",
   "id": "ba9478de-9226-470d-ac82-44081725c8a3",
   "metadata": {},
   "source": [
    "Implement a Decision Function or Activation Function:"
   ]
  },
  {
   "cell_type": "code",
   "execution_count": 49,
   "id": "500bd3e0-abe2-48ee-9fbe-508f03f5315d",
   "metadata": {},
   "outputs": [],
   "source": [
    "import numpy as np\n",
    "def decision_function(X, weights, bias):\n",
    "    \"\"\"\n",
    "    Compute the predicted labels for the input data.\n",
    "    Parameters:\n",
    "    - X: Features (input data) as a numpy array of shape (n_samples, n_features)\n",
    "    - weights: Updated weights after training\n",
    "    - bias: Updated bias after training\n",
    "    Returns:\n",
    "    - y_pred_all: The predicted labels for the input data\n",
    "    \"\"\"\n",
    "    predictions = np.dot(X, weights) + bias\n",
    "    #####Your Code Here############ # Activation function (step function)\n",
    "    y_pred_all = np.where(predictions >= 0, 1, 0)\n",
    "    return y_pred_all"
   ]
  },
  {
   "cell_type": "markdown",
   "id": "1924c3ce-3fc0-46db-b6bf-07ced65eb304",
   "metadata": {},
   "source": [
    "Implement the Perceptron Learning Algorithm:"
   ]
  },
  {
   "cell_type": "code",
   "execution_count": 50,
   "id": "d13b8395-a6e5-4819-8878-2d1158df1e22",
   "metadata": {},
   "outputs": [],
   "source": [
    "import numpy as np\n",
    "def train_perceptron(X, y, weights, bias, learning_rate=0.1, epochs=100):\n",
    "    \"\"\"\n",
    "    Train the perceptron using the Perceptron Learning Algorithm.\n",
    "    Parameters:\n",
    "    - X: Features (input data) as a numpy array of shape (n_samples, n_features)\n",
    "    - y: Labels (true output) as a numpy array of shape (n_samples,)\n",
    "    - weights: Initial weights as a numpy array of shape (n_features,)\n",
    "    - bias: Initial bias value (scalar)\n",
    "    - learning_rate: Learning rate for weight updates (default is 0.1)\n",
    "    - epochs: Number of iterations to train the model (default is 100)\n",
    "    Returns:\n",
    "    - weights: Updated weights after training\n",
    "    - bias: Updated bias after training\n",
    "    - accuracy: Total correct prediction.\n",
    "    \"\"\"\n",
    "    # Step 3: Perceptron Learning Algorithm\n",
    "    # Your Code here#\n",
    "    for epoch in range(epochs):\n",
    "        for i in range(len(X)):\n",
    "            output = np.dot(X[i], weights) + bias\n",
    "            y_pred = 1 if output >= 0 else 0\n",
    "            if y_pred != y[i]:\n",
    "                weights += learning_rate * (y[i] - y_pred) * X[i]\n",
    "                bias += learning_rate * (y[i] - y_pred)\n",
    "        # Calculate accuracy\n",
    "        y_pred_all = decision_function(X, weights, bias)\n",
    "        accuracy = np.mean(y_pred_all == y)\n",
    "    return weights, bias, accuracy"
   ]
  },
  {
   "cell_type": "markdown",
   "id": "fdbe794f-3dc9-4eaf-b463-1083486782b1",
   "metadata": {},
   "source": [
    "Question - 5: What is the purpose of the output = np.dot(X[i], weights) + bias line?\n",
    "\n",
    "The purpose of this line is to compute the weighted sum of the inputs for a single sample. It calculates:\n",
    "\n",
    "* np.dot(X[i], weights): The dot product of the input features and the weights.\n",
    "\n",
    "* +bias: Adds the bias term to the weighted sum.\n",
    "This value is used to make a prediction using the step function."
   ]
  },
  {
   "attachments": {},
   "cell_type": "markdown",
   "id": "6aa7f665-a17d-40b4-a2d8-1c6d1e0826a5",
   "metadata": {},
   "source": [
    "Question - 6: What happens when the prediction is wrong? How are the weights and\n",
    "bias updated?\n",
    "\n",
    "* When the prediction is wrong (y_pred != y[i]), the weights and bias are updated using the Perceptron learning rule:\n",
    "\n",
    "    * Weight Update:\n",
    "weights += learning_rate * (y[i] - y_pred) * X[i]\n",
    "\n",
    "    * Bias Update:\n",
    "bias += learning_rate * (y[i] - y_pred)\n",
    "\n",
    "* The updates adjust the weights and bias to reduce the prediction error for the current sample.\n"
   ]
  },
  {
   "cell_type": "markdown",
   "id": "6ac84d45-bd71-459e-ad68-559a699216ae",
   "metadata": {},
   "source": [
    "Question - 7: Why is the final accuracy important, and what do you expect it to be?\n",
    "\n",
    "* Importance of Final Accuracy: The final accuracy measures how well the Perceptron model performs on the training data. It indicates the percentage of correctly classified samples.\n",
    "\n",
    "* Expected Accuracy: For linearly separable data (like 0 vs 1 in MNIST), the Perceptron should achieve 100% accuracy if it converges. However, if the data is not perfectly separable, the accuracy may be lower.\n"
   ]
  },
  {
   "cell_type": "code",
   "execution_count": 57,
   "id": "3bd506f3-9980-48b5-a42f-c163ca31b456",
   "metadata": {},
   "outputs": [
    {
     "name": "stdout",
     "output_type": "stream",
     "text": [
      "The Final Accuracy is: , 1.0000\n"
     ]
    }
   ],
   "source": [
    "# After training the model with the perceptron_learning_algorithm\n",
    "weights, bias, accuracy = train_perceptron(X, y, weights, bias, learning_rate, epochs)\n",
    "# Evaluate the model using the new function\n",
    "print(f\"The Final Accuracy is: , {accuracy:.4f}\")"
   ]
  },
  {
   "cell_type": "markdown",
   "id": "2a00fc7a-e1f8-4d9b-9d53-e8c249b6e44b",
   "metadata": {},
   "source": [
    "Visualizing the Misclassified Image:"
   ]
  },
  {
   "cell_type": "code",
   "execution_count": 48,
   "id": "cba64bb3-b2cb-43b3-bd90-550063a31660",
   "metadata": {},
   "outputs": [
    {
     "name": "stdout",
     "output_type": "stream",
     "text": [
      "Final Accuracy: 0.9998\n"
     ]
    },
    {
     "data": {
      "image/png": "[encoded data removed]",
      "text/plain": [
       "<Figure size 1000x500 with 10 Axes>"
      ]
     },
     "metadata": {},
     "output_type": "display_data"
    }
   ],
   "source": [
    "# Get predictions for all data points\n",
    "predictions = np.dot(X, weights) + bias\n",
    "y_pred = np.where(predictions >= 0, 1, 0)\n",
    "# Calculate final accuracy\n",
    "final_accuracy = np.mean(y_pred == y)\n",
    "print(f\"Final Accuracy: {final_accuracy:.4f}\")\n",
    "# Step 5: Visualize Misclassified Images\n",
    "misclassified_idx = np.where(y_pred != y)[0]\n",
    "if len(misclassified_idx) > 0:\n",
    "    fig, axes = plt.subplots(2, 5, figsize=(10, 5))\n",
    "    for ax, idx in zip(axes.flat, misclassified_idx[:10]): # Show 10 misclassified images\n",
    "        ax.imshow(X[idx].reshape(28, 28), cmap=\"gray\")\n",
    "        ax.set_title(f\"Pred: {y_pred[idx]}, True: {y[idx]}\")\n",
    "        ax.axis(\"off\")\n",
    "    plt.suptitle(\"Misclassified Images\")\n",
    "    plt.show()\n",
    "else:\n",
    "    print(\"All images were correctly classified!\")"
   ]
  },
  {
   "cell_type": "markdown",
   "id": "ed411ff3-9ab4-4c36-9359-c504fb8035c5",
   "metadata": {},
   "source": [
    "Question - 8:What does misclassified idx store, and how is it used in this code?\n",
    "* misclassified_idx: This stores the indices of the samples that were misclassified by the Perceptron model.\n",
    "\n",
    "* Usage: It is used to identify and visualize the images that the model predicted incorrectly. The code plots the first 10 misclassified images."
   ]
  },
  {
   "cell_type": "markdown",
   "id": "fecbd652-f34c-415d-9345-e6088b816a09",
   "metadata": {},
   "source": [
    "Question - 9: How do you interpret the result if the output is ”All images were\n",
    "correctly classified!”?\n",
    "\n",
    "If the output is \"All images were correctly classified!\", it means:\n",
    "\n",
    "* The Perceptron model achieved 100% accuracy on the training data.\n",
    "\n",
    "* The model successfully learned a decision boundary that separates the two classes (0 and 1) without any errors."
   ]
  },
  {
   "cell_type": "markdown",
   "id": "9ac72588-457a-461a-8716-6065b23340fc",
   "metadata": {},
   "source": [
    "Task 3: Perceptron Algorithm for 3 vs 5 Classification."
   ]
  },
  {
   "cell_type": "markdown",
   "id": "70971e52-fe82-4d2e-b27a-8539164f3f8f",
   "metadata": {},
   "source": [
    "Load the MNIST dataset containing only digits 3 and 5 (mnist_3_and_5.csv)."
   ]
  },
  {
   "cell_type": "code",
   "execution_count": 58,
   "id": "a4407ef9-b3a1-4785-b074-c01527165669",
   "metadata": {},
   "outputs": [
    {
     "name": "stdout",
     "output_type": "stream",
     "text": [
      "Feature matrix shape: (2741, 784)\n",
      "Label vector shape: (2741,)\n"
     ]
    }
   ],
   "source": [
    "# Load the dataset\n",
    "df_3_5 = pd.read_csv(\"mnist_3_and_5.csv\")  # Make sure the file path is correct\n",
    "\n",
    "# Extract features and labels\n",
    "X = df_3_5.drop(columns=[\"label\"]).values  # Features (784 pixels)\n",
    "y = df_3_5[\"label\"].values  # Labels (3 or 5)\n",
    "\n",
    "# Check the shape of the features and labels\n",
    "print(\"Feature matrix shape:\", X.shape)  # Should be (n_samples, 784)\n",
    "print(\"Label vector shape:\", y.shape)  # Should be (n_samples,)"
   ]
  },
  {
   "cell_type": "markdown",
   "id": "6b3bc0d7-7938-481c-93f9-a714311732f0",
   "metadata": {},
   "source": [
    "Question 1: What does the shape of X represent?\n",
    "\n",
    "The shape of X represents the number of samples and the number of features in the dataset. For example, if X.shape is (n_samples, 784), it means:\n",
    "\n",
    "* n_samples: The number of images (samples) in the dataset.\n",
    "\n",
    "* 784: The number of features (pixels) in each image (28x28 = 784)."
   ]
  },
  {
   "cell_type": "markdown",
   "id": "5d635cff-ec81-49d4-b9d7-85eec1b015f4",
   "metadata": {},
   "source": []
  },
  {
   "cell_type": "markdown",
   "id": "3013ca65-bf3d-4edd-a6b1-6fc7e062b5b8",
   "metadata": {},
   "source": []
  },
  {
   "cell_type": "markdown",
   "id": "78c917a4-0353-408c-b608-50abc53cde3b",
   "metadata": {},
   "source": [
    "##  Visualize the Dataset"
   ]
  },
  {
   "cell_type": "markdown",
   "id": "17223a2c-8e42-4070-9997-b46924b3e834",
   "metadata": {},
   "source": [
    "Visualize some images from the dataset."
   ]
  },
  {
   "cell_type": "code",
   "execution_count": 59,
   "id": "87fc8e6b-9d7d-4105-af6f-193c77616890",
   "metadata": {},
   "outputs": [
    {
     "data": {
      "image/png": "[encoded data removed]",
      "text/plain": [
       "<Figure size 1000x500 with 10 Axes>"
      ]
     },
     "metadata": {},
     "output_type": "display_data"
    }
   ],
   "source": [
    "# Separate images for label 3 and label 5\n",
    "images_3 = X[y == 3]  # Get all images with label 3\n",
    "images_5 = X[y == 5]  # Get all images with label 5\n",
    "\n",
    "# Plot the first 5 images of 3 and 5\n",
    "fig, axes = plt.subplots(2, 5, figsize=(10, 5))\n",
    "for i in range(5):\n",
    "    # Plot digit 3\n",
    "    axes[0, i].imshow(images_3[i].reshape(28, 28), cmap=\"gray\")\n",
    "    axes[0, i].set_title(\"Label: 3\")\n",
    "    axes[0, i].axis(\"off\")\n",
    "    # Plot digit 5\n",
    "    axes[1, i].imshow(images_5[i].reshape(28, 28), cmap=\"gray\")\n",
    "    axes[1, i].set_title(\"Label: 5\")\n",
    "    axes[1, i].axis(\"off\")\n",
    "plt.suptitle(\"First 5 Images of 3 and 5 from MNIST Subset\")\n",
    "plt.show()"
   ]
  },
  {
   "cell_type": "markdown",
   "id": "23b3407c-8281-4527-8c84-36bac9c9fa0c",
   "metadata": {},
   "source": [
    "## Train the Perceptron"
   ]
  },
  {
   "cell_type": "markdown",
   "id": "289b7417-0c0a-4183-a722-d0541a9db2a4",
   "metadata": {},
   "source": [
    "Use the same train_perceptron function from Task 2 to train the model."
   ]
  },
  {
   "cell_type": "code",
   "execution_count": 60,
   "id": "77b80553-a809-4f77-8e21-bd34601ef220",
   "metadata": {},
   "outputs": [
    {
     "name": "stdout",
     "output_type": "stream",
     "text": [
      "Final Accuracy: 0.0000\n"
     ]
    }
   ],
   "source": [
    "# Initialize weights and bias\n",
    "weights = np.zeros(X.shape[1])  # 784 weights (one for each pixel)\n",
    "bias = 0\n",
    "learning_rate = 0.1\n",
    "epochs = 100\n",
    "\n",
    "# Train the Perceptron\n",
    "weights, bias, accuracy = train_perceptron(X, y, weights, bias, learning_rate, epochs)\n",
    "print(f\"Final Accuracy: {accuracy:.4f}\")"
   ]
  },
  {
   "cell_type": "markdown",
   "id": "02e1c9e2-d7d4-4ee8-9430-3daf059425a9",
   "metadata": {},
   "source": [
    "## Visualize Misclassified Images"
   ]
  },
  {
   "cell_type": "markdown",
   "id": "4442f2d9-51c5-4b8c-b319-e6f5d8c04c1a",
   "metadata": {},
   "source": [
    "### Visualize the misclassified images."
   ]
  },
  {
   "cell_type": "code",
   "execution_count": 61,
   "id": "765b0766-1bd9-4103-a957-9c179fc716e9",
   "metadata": {},
   "outputs": [
    {
     "name": "stdout",
     "output_type": "stream",
     "text": [
      "Final Accuracy: 0.0000\n"
     ]
    },
    {
     "data": {
      "image/png": "[encoded data removed]",
      "text/plain": [
       "<Figure size 1000x500 with 10 Axes>"
      ]
     },
     "metadata": {},
     "output_type": "display_data"
    }
   ],
   "source": [
    "# Get predictions for all data points\n",
    "predictions = np.dot(X, weights) + bias\n",
    "y_pred = np.where(predictions >= 0, 1, 0)\n",
    "\n",
    "# Calculate final accuracy\n",
    "final_accuracy = np.mean(y_pred == y)\n",
    "print(f\"Final Accuracy: {final_accuracy:.4f}\")\n",
    "\n",
    "# Visualize misclassified images\n",
    "misclassified_idx = np.where(y_pred != y)[0]\n",
    "if len(misclassified_idx) > 0:\n",
    "    fig, axes = plt.subplots(2, 5, figsize=(10, 5))\n",
    "    for ax, idx in zip(axes.flat, misclassified_idx[:10]):  # Show 10 misclassified images\n",
    "        ax.imshow(X[idx].reshape(28, 28), cmap=\"gray\")\n",
    "        ax.set_title(f\"Pred: {y_pred[idx]}, True: {y[idx]}\")\n",
    "        ax.axis(\"off\")\n",
    "    plt.suptitle(\"Misclassified Images\")\n",
    "    plt.show()\n",
    "else:\n",
    "    print(\"All images were correctly classified!\")"
   ]
  }
 ],
 "metadata": {
  "kernelspec": {
   "display_name": "Python 3 (ipykernel)",
   "language": "python",
   "name": "python3"
  },
  "language_info": {
   "codemirror_mode": {
    "name": "ipython",
    "version": 3
   },
   "file_extension": ".py",
   "mimetype": "text/x-python",
   "name": "python",
   "nbconvert_exporter": "python",
   "pygments_lexer": "ipython3",
   "version": "3.13.2"
  }
 },
 "nbformat": 4,
 "nbformat_minor": 5
}
